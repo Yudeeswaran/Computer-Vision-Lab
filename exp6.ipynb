{
  "nbformat": 4,
  "nbformat_minor": 0,
  "metadata": {
    "colab": {
      "provenance": []
    },
    "kernelspec": {
      "name": "python3",
      "display_name": "Python 3"
    },
    "language_info": {
      "name": "python"
    }
  },
  "cells": [
    {
      "cell_type": "code",
      "execution_count": null,
      "metadata": {
        "id": "gjSsJBH-nISs"
      },
      "outputs": [],
      "source": [
        "import cv2\n",
        "cap = cv2.VideoCapture('video.mp4')\n",
        "detector = cv2.CascadeClassifier(cv2.data.haarcascades + 'haarcascade_frontalface_default.xml')\n",
        "ret, frame = cap.read()\n",
        "if not ret:\n",
        "    print(\"Failed to read video\")\n",
        "    cap.release()\n",
        "    exit()\n",
        "\n",
        "gray = cv2.cvtColor(frame, cv2.COLOR_BGR2GRAY)\n",
        "faces = detector.detectMultiScale(gray, scaleFactor=1.1, minNeighbors=5, minSize=(30, 30))\n",
        "trackers = []\n",
        "for face in faces:\n",
        "    x, y, w, h = face\n",
        "    tracker = cv2.legacy.TrackerKCF_create()\n",
        "    tracker.init(frame, (x, y, w, h))\n",
        "    trackers.append(tracker)\n",
        "while True:\n",
        "    ret, frame = cap.read()\n",
        "    if not ret:\n",
        "        break\n",
        "\n",
        "    for tracker in trackers:\n",
        "        success, box = tracker.update(frame)\n",
        "        if success:\n",
        "            x, y, w, h = [int(val) for val in box]\n",
        "            cv2.rectangle(frame, (x, y), (x + w, y + h), (0, 255, 0), 2)\n",
        "    cv2.imshow('Object Tracking', frame)\n",
        "    if cv2.waitKey(1) & 0xFF == ord('q'):\n",
        "        break\n",
        "cap.release()\n",
        "cv2.destroyAllWindows()\n"
      ]
    }
  ]
}