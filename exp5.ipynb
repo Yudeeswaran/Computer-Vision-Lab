{
  "nbformat": 4,
  "nbformat_minor": 0,
  "metadata": {
    "colab": {
      "provenance": []
    },
    "kernelspec": {
      "name": "python3",
      "display_name": "Python 3"
    },
    "language_info": {
      "name": "python"
    }
  },
  "cells": [
    {
      "cell_type": "code",
      "execution_count": null,
      "metadata": {
        "id": "gjSsJBH-nISs"
      },
      "outputs": [],
      "source": [
        "import cv2\n",
        "\n",
        "TRACKER_TYPE = \"CSRT\"\n",
        "\n",
        "multi_tracker = cv2.legacy.MultiTracker_create()\n",
        "cap = cv2.VideoCapture(0)\n",
        "ret, frame = cap.read()\n",
        "if not ret:\n",
        "    print(\"Failed to load video\")\n",
        "    cap.release()\n",
        "    exit()\n",
        "bboxes = []\n",
        "while True:\n",
        "    bbox = cv2.selectROI(\"Select Object\", frame, fromCenter=False, showCrosshair=True)\n",
        "    if bbox[2] == 0 or bbox[3] == 0:\n",
        "        break\n",
        "    bboxes.append(bbox)\n",
        "for bbox in bboxes:\n",
        "    if TRACKER_TYPE == \"CSRT\":\n",
        "        tracker = cv2.legacy.TrackerCSRT_create()\n",
        "    elif TRACKER_TYPE == \"KCF\":\n",
        "        tracker = cv2.legacy.TrackerKCF_create()\n",
        "    elif TRACKER_TYPE == \"MOSSE\":\n",
        "        tracker = cv2.legacy.TrackerMOSSE_create()\n",
        "    else:\n",
        "        raise ValueError(\"Invalid tracker type selected\")\n",
        "\n",
        "    multi_tracker.add(tracker, frame, bbox)\n",
        "\n",
        "cv2.destroyWindow(\"Select Object\")\n",
        "\n",
        "while cap.isOpened():\n",
        "    ret, frame = cap.read()\n",
        "    if not ret:\n",
        "        break\n",
        "\n",
        "    success, boxes = multi_tracker.update(frame)\n",
        "\n",
        "    for box in boxes:\n",
        "        x, y, w, h = [int(v) for v in box]\n",
        "        cv2.rectangle(frame, (x, y), (x + w, y + h), (0, 255, 0), 2)\n",
        "\n",
        "    cv2.imshow(\"Multi Object Tracking\", frame)\n",
        "\n",
        "    if cv2.waitKey(1) & 0xFF == ord('q'):\n",
        "        break\n",
        "\n",
        "cap.release()\n",
        "cv2.destroyAllWindows()\n"
      ]
    }
  ]
}